{
 "cells": [
  {
   "cell_type": "markdown",
   "metadata": {},
   "source": [
    "### ISYE 6740 - Machine Learning\n",
    "\n",
    "#### Homework 6 - Graham Billey"
   ]
  },
  {
   "cell_type": "markdown",
   "metadata": {},
   "source": [
    "**1) Neural networks.**\n",
    "\n",
    "**a) Consider a neural network for binary classification using a sigmoid function for each unit. If the neural network has no hidden layer, explain why the model is equvalent to logistic regression.**"
   ]
  },
  {
   "cell_type": "markdown",
   "metadata": {},
   "source": [
    "------\n",
    "\n",
    "Logistic regression is a statistical method used to model the probabilty of an event based on a function of input variables. Specifically, this model assumes a linear relationship between the predictor variables and the _**log-odds**_ of the event happening.\n",
    "\n",
    "The standard function used is the logit function (a type of sigmoid function), where the probability of the event $\\sigma$ is given below.\n",
    "\n",
    "$$ \\sigma = \\frac{1}{1+e^{-w^T x}} $$\n",
    "\n",
    "In a neural network with no hidden layer, the inputs are fed directly into the final decision-making neuron. If this neuron uses the logit function to calculalte the final probability, then it is modeling the log-odds of the probabilty of the event using a linear combination of the inputs. This is exactly what happend in logistic regression.\n",
    "\n",
    "If there were hidden layers, then the inputs to the final neuron would not be the raw inputs to the model, but they would be probabilities calculated from other neurons. \n",
    "\n",
    "Therefore if there is no hidden layer, the neural net is equivalent to logistic regression."
   ]
  },
  {
   "cell_type": "markdown",
   "metadata": {},
   "source": [
    "**b) Consider the simple 2-layer neural network from the lecture slides.** Given the cost function used to train the network:\n",
    "\n",
    "$$ l(w, \\alpha, \\beta) = \\sum_{i=1}^m (y^i - \\sigma(w^T z^i))^2 $$\n",
    "\n",
    "where $\\sigma(x) = 1/(1+e^{-x})$ is the sigmoid function. show that the gradient is given by:\n",
    "\n",
    "$$ \\frac{\\partial l}{\\partial w} = -\\sum_{i=1}^m 2 (y^i - \\sigma(u^i))\\sigma(u^i)(1-\\sigma(u^i))z^i $$\n",
    "\n",
    "where $z_1^i = \\sigma(\\alpha^T x^i)$, $z_2^i = \\sigma(\\beta^T x^i)$. Also find the gradient of $l$ with respect to $\\alpha$ and $\\beta$."
   ]
  },
  {
   "cell_type": "markdown",
   "metadata": {},
   "source": [
    "------\n",
    "\n",
    "First, we will calculate $\\large \\frac{\\partial \\sigma(u)}{\\partial u}$...\n",
    "\n",
    "$ \\sigma (u) = \\large \\frac{1}{1 + e^{-u}} = (1 + e^{-u})^{-1} $\n",
    "\n",
    "Therefore, \n",
    "\n",
    "$ \\large \\frac{\\partial \\sigma(u)}{\\partial u} = -(1 + e^{-u})^{-2} * (-e^{-u}) = \\frac{e^{-u}}{(1+e^{-u})^2}$\n",
    "\n",
    "Also note,\n",
    "\n",
    "$ 1 - \\sigma(u) = \\large 1 - \\frac{1}{1+e^{-u}} = \\frac{e^{-u}}{1+e^{-u}} $\n",
    "\n",
    "Thus, \n",
    "\n",
    "$ \\large \\frac{\\partial \\sigma(u)}{\\partial u} = \\frac{e^{-u}}{(1+e^{-u})^2} = (\\frac{e^{-u}}{1+e^{-u}})*(\\frac{1}{1+e^{-u}}) = (1 - \\sigma(u))\\sigma(u) $\n"
   ]
  },
  {
   "cell_type": "markdown",
   "metadata": {},
   "source": [
    "------\n",
    "\n",
    "Now, we can use that definition to calculate the gradients of $l$ with respect to $w$, $\\alpha$, and $\\beta$.\n",
    "\n",
    "Let $ \\large u = w^T z^i$...\n",
    "\n",
    "$ \\large \\frac{\\partial l}{\\partial w} = \\sum_{i=1}^m 2(y^i - \\sigma(u))(-\\frac{\\partial}{\\partial u} \\sigma(u)) \\frac{\\partial u}{\\partial w} $\n",
    "\n",
    "$ \\large = -\\sum_{i=1}^m 2 (y^i - \\sigma(u))\\sigma(u)(1-\\sigma(u))z^i $\n",
    "\n",
    "------\n",
    "\n",
    "Let $ \\large z_1 = \\sigma(\\alpha^T x) = \\frac{1}{1+ e^{-\\alpha^T x}} $.\n",
    "\n",
    "Then $ \\large \\frac{\\partial z_1}{\\partial \\alpha} = \\sigma(\\alpha^T x)(1 - \\sigma(\\alpha^T x))(x)$\n",
    "\n",
    "Also from the derivation above $ \\large \\frac{\\partial l}{\\partial z_1} = -\\sum_{i=1}^m 2 (y^i - \\sigma(u))\\sigma(u)(1-\\sigma(u))w_1$\n",
    "\n",
    "Putting it all together...\n",
    "\n",
    "$ \\large \\frac{\\partial l}{\\partial \\alpha} = \\frac{\\partial l}{\\partial z_1} \\frac{\\partial z_1}{\\partial \\alpha} $\n",
    "\n",
    "$ \\large = -\\sum_{i=1}^m 2 (y^i - \\sigma(w_1^T z_1^i))\\sigma(w_1^T z_1^i)(1-\\sigma(w_1^T z_1^i))w_1 \\sigma(\\alpha^T x)(1 - \\sigma(\\alpha^T x))(x) $\n",
    "\n",
    "Similarly...\n",
    "\n",
    "$ \\large \\frac{\\partial l}{\\partial \\beta} = \\frac{\\partial l}{\\partial z_2} \\frac{\\partial z_2}{\\partial \\beta} $\n",
    "\n",
    "$ \\large = -\\sum_{i=1}^m 2 (y^i - \\sigma(w_2^T z_2^i))\\sigma(w_2^T z_2^i)(1-\\sigma(w_2^T z_2^i))w_2 \\sigma(\\beta^T x)(1 - \\sigma(\\beta^T x))(x) $\n"
   ]
  },
  {
   "cell_type": "markdown",
   "metadata": {},
   "source": [
    "**2) Comparing SVM and simple neural networks.** \n",
    "\n",
    "This question is to implement and compare SVM and a simple neural network for two datasets. You may use `sklearn.neural_network` with `hidden_layer_sizes=(5, 2)`. Tune the step size so you have reasonable results. You may use `svc` and tune the penalty term `C` to get reasonable results."
   ]
  },
  {
   "cell_type": "markdown",
   "metadata": {},
   "source": [
    "**Part One (Divorce Classification/Prediction).**\n",
    "\n",
    "This dataset is about participants who completed the personal information form and a divorce predictors scale. \n",
    "\n",
    "The data is a modified version of the publicly available `https://archive.ics.uci.edu/ml/datasets/Divorce+Predictors+data+set`. There are 170 participants and 54 attributes that are all real-valued. The last column of the dataset is label `y`. `1` means divorce and `0` means no divorce. A detailed explanation for each feature can be found at the link above. \n",
    "\n",
    "Our goal is to build a classifier using training data so that given a test sample, we can predict whether it's label is `0` (no divorce) or `1` (divorce).\n",
    "\n",
    "Build two classifiers using SVM and a simple neural network. Randomly split the dataset into a training and test set, using 80% of the data for training and 20% for testing. "
   ]
  },
  {
   "cell_type": "code",
   "execution_count": 22,
   "metadata": {},
   "outputs": [],
   "source": [
    "import numpy as np\n",
    "import pandas as pd\n",
    "import matplotlib.pyplot as plt\n",
    "\n",
    "from sklearn.model_selection import train_test_split\n",
    "from sklearn.svm import SVC\n",
    "from sklearn.neural_network import MLPClassifier\n",
    "from scipy.io import loadmat\n",
    "\n",
    "import warnings\n",
    "warnings.filterwarnings(\"ignore\")"
   ]
  },
  {
   "cell_type": "code",
   "execution_count": 4,
   "metadata": {},
   "outputs": [
    {
     "data": {
      "text/html": [
       "<div>\n",
       "<style scoped>\n",
       "    .dataframe tbody tr th:only-of-type {\n",
       "        vertical-align: middle;\n",
       "    }\n",
       "\n",
       "    .dataframe tbody tr th {\n",
       "        vertical-align: top;\n",
       "    }\n",
       "\n",
       "    .dataframe thead th {\n",
       "        text-align: right;\n",
       "    }\n",
       "</style>\n",
       "<table border=\"1\" class=\"dataframe\">\n",
       "  <thead>\n",
       "    <tr style=\"text-align: right;\">\n",
       "      <th></th>\n",
       "      <th>0</th>\n",
       "      <th>1</th>\n",
       "      <th>2</th>\n",
       "      <th>3</th>\n",
       "      <th>4</th>\n",
       "      <th>5</th>\n",
       "      <th>6</th>\n",
       "      <th>7</th>\n",
       "      <th>8</th>\n",
       "      <th>9</th>\n",
       "      <th>...</th>\n",
       "      <th>45</th>\n",
       "      <th>46</th>\n",
       "      <th>47</th>\n",
       "      <th>48</th>\n",
       "      <th>49</th>\n",
       "      <th>50</th>\n",
       "      <th>51</th>\n",
       "      <th>52</th>\n",
       "      <th>53</th>\n",
       "      <th>54</th>\n",
       "    </tr>\n",
       "  </thead>\n",
       "  <tbody>\n",
       "    <tr>\n",
       "      <td>0</td>\n",
       "      <td>1.560903</td>\n",
       "      <td>3.681587</td>\n",
       "      <td>3.450467</td>\n",
       "      <td>3.211998</td>\n",
       "      <td>-1.203045</td>\n",
       "      <td>0.597706</td>\n",
       "      <td>-0.970093</td>\n",
       "      <td>-0.750970</td>\n",
       "      <td>-0.511495</td>\n",
       "      <td>-0.133660</td>\n",
       "      <td>...</td>\n",
       "      <td>2.077401</td>\n",
       "      <td>1.184182</td>\n",
       "      <td>3.955069</td>\n",
       "      <td>2.608046</td>\n",
       "      <td>2.303629</td>\n",
       "      <td>1.721660</td>\n",
       "      <td>3.275018</td>\n",
       "      <td>1.761019</td>\n",
       "      <td>1.215237</td>\n",
       "      <td>1.0</td>\n",
       "    </tr>\n",
       "    <tr>\n",
       "      <td>1</td>\n",
       "      <td>4.153272</td>\n",
       "      <td>5.173858</td>\n",
       "      <td>4.100690</td>\n",
       "      <td>2.580173</td>\n",
       "      <td>3.305788</td>\n",
       "      <td>-1.505512</td>\n",
       "      <td>-0.029398</td>\n",
       "      <td>5.702657</td>\n",
       "      <td>2.230281</td>\n",
       "      <td>4.975496</td>\n",
       "      <td>...</td>\n",
       "      <td>3.467076</td>\n",
       "      <td>2.451984</td>\n",
       "      <td>3.504294</td>\n",
       "      <td>5.324240</td>\n",
       "      <td>4.480607</td>\n",
       "      <td>5.375248</td>\n",
       "      <td>2.270379</td>\n",
       "      <td>2.167944</td>\n",
       "      <td>2.191214</td>\n",
       "      <td>1.0</td>\n",
       "    </tr>\n",
       "    <tr>\n",
       "      <td>2</td>\n",
       "      <td>2.226241</td>\n",
       "      <td>1.575322</td>\n",
       "      <td>2.389117</td>\n",
       "      <td>2.725405</td>\n",
       "      <td>-0.304562</td>\n",
       "      <td>2.832803</td>\n",
       "      <td>1.787779</td>\n",
       "      <td>0.565755</td>\n",
       "      <td>1.328212</td>\n",
       "      <td>2.335353</td>\n",
       "      <td>...</td>\n",
       "      <td>1.200917</td>\n",
       "      <td>1.241794</td>\n",
       "      <td>2.207492</td>\n",
       "      <td>1.228034</td>\n",
       "      <td>0.870052</td>\n",
       "      <td>1.685040</td>\n",
       "      <td>2.341985</td>\n",
       "      <td>-0.444320</td>\n",
       "      <td>2.527452</td>\n",
       "      <td>1.0</td>\n",
       "    </tr>\n",
       "    <tr>\n",
       "      <td>3</td>\n",
       "      <td>3.553458</td>\n",
       "      <td>2.859042</td>\n",
       "      <td>2.928414</td>\n",
       "      <td>1.833241</td>\n",
       "      <td>1.271119</td>\n",
       "      <td>4.165213</td>\n",
       "      <td>2.078597</td>\n",
       "      <td>4.506175</td>\n",
       "      <td>2.521628</td>\n",
       "      <td>2.747315</td>\n",
       "      <td>...</td>\n",
       "      <td>3.196291</td>\n",
       "      <td>2.204824</td>\n",
       "      <td>3.664982</td>\n",
       "      <td>3.689508</td>\n",
       "      <td>2.577677</td>\n",
       "      <td>3.171884</td>\n",
       "      <td>2.164660</td>\n",
       "      <td>1.813024</td>\n",
       "      <td>1.376033</td>\n",
       "      <td>1.0</td>\n",
       "    </tr>\n",
       "    <tr>\n",
       "      <td>4</td>\n",
       "      <td>0.506547</td>\n",
       "      <td>1.419223</td>\n",
       "      <td>1.716153</td>\n",
       "      <td>1.319274</td>\n",
       "      <td>2.853840</td>\n",
       "      <td>0.047412</td>\n",
       "      <td>-0.016515</td>\n",
       "      <td>0.620795</td>\n",
       "      <td>1.202992</td>\n",
       "      <td>0.078347</td>\n",
       "      <td>...</td>\n",
       "      <td>1.806657</td>\n",
       "      <td>2.085539</td>\n",
       "      <td>2.012551</td>\n",
       "      <td>1.899477</td>\n",
       "      <td>1.510134</td>\n",
       "      <td>1.373350</td>\n",
       "      <td>2.551119</td>\n",
       "      <td>0.846321</td>\n",
       "      <td>-0.066858</td>\n",
       "      <td>1.0</td>\n",
       "    </tr>\n",
       "  </tbody>\n",
       "</table>\n",
       "<p>5 rows × 55 columns</p>\n",
       "</div>"
      ],
      "text/plain": [
       "         0         1         2         3         4         5         6   \\\n",
       "0  1.560903  3.681587  3.450467  3.211998 -1.203045  0.597706 -0.970093   \n",
       "1  4.153272  5.173858  4.100690  2.580173  3.305788 -1.505512 -0.029398   \n",
       "2  2.226241  1.575322  2.389117  2.725405 -0.304562  2.832803  1.787779   \n",
       "3  3.553458  2.859042  2.928414  1.833241  1.271119  4.165213  2.078597   \n",
       "4  0.506547  1.419223  1.716153  1.319274  2.853840  0.047412 -0.016515   \n",
       "\n",
       "         7         8         9   ...        45        46        47        48  \\\n",
       "0 -0.750970 -0.511495 -0.133660  ...  2.077401  1.184182  3.955069  2.608046   \n",
       "1  5.702657  2.230281  4.975496  ...  3.467076  2.451984  3.504294  5.324240   \n",
       "2  0.565755  1.328212  2.335353  ...  1.200917  1.241794  2.207492  1.228034   \n",
       "3  4.506175  2.521628  2.747315  ...  3.196291  2.204824  3.664982  3.689508   \n",
       "4  0.620795  1.202992  0.078347  ...  1.806657  2.085539  2.012551  1.899477   \n",
       "\n",
       "         49        50        51        52        53   54  \n",
       "0  2.303629  1.721660  3.275018  1.761019  1.215237  1.0  \n",
       "1  4.480607  5.375248  2.270379  2.167944  2.191214  1.0  \n",
       "2  0.870052  1.685040  2.341985 -0.444320  2.527452  1.0  \n",
       "3  2.577677  3.171884  2.164660  1.813024  1.376033  1.0  \n",
       "4  1.510134  1.373350  2.551119  0.846321 -0.066858  1.0  \n",
       "\n",
       "[5 rows x 55 columns]"
      ]
     },
     "metadata": {},
     "output_type": "display_data"
    },
    {
     "name": "stdout",
     "output_type": "stream",
     "text": [
      "               0           1           2           3           4           5   \\\n",
      "count  170.000000  170.000000  170.000000  170.000000  170.000000  170.000000   \n",
      "mean     1.770777    1.633135    1.798309    1.370588    1.342256    0.847017   \n",
      "std      1.929021    1.740227    1.698275    1.821564    1.855237    1.348739   \n",
      "min     -2.023485   -1.740792   -2.566943   -3.519291   -2.130629   -2.767585   \n",
      "25%      0.074385    0.203852    0.692089   -0.081704   -0.092502   -0.214556   \n",
      "50%      1.906986    1.571904    1.735973    1.265344    1.161074    0.706923   \n",
      "75%      3.386862    2.896925    3.107852    2.745149    2.840452    1.760754   \n",
      "max      7.131655    5.468516    6.252416    6.348411    6.386664    4.452201   \n",
      "\n",
      "               6           7           8           9   ...          45  \\\n",
      "count  170.000000  170.000000  170.000000  170.000000  ...  170.000000   \n",
      "mean     0.473006    1.433578    1.418732    1.463634  ...    2.500142   \n",
      "std      1.307073    1.784217    1.948064    1.585273  ...    1.704166   \n",
      "min     -2.137944   -2.361706   -2.948432   -1.803600  ...   -2.571465   \n",
      "25%     -0.409685    0.080323   -0.266338    0.243659  ...    1.198083   \n",
      "50%      0.452470    1.218021    1.209114    1.349238  ...    2.787483   \n",
      "75%      1.145530    2.884891    3.047076    2.640263  ...    3.904251   \n",
      "max      5.439817    5.702657    5.612289    4.975496  ...    5.650073   \n",
      "\n",
      "               46          47          48          49          50          51  \\\n",
      "count  170.000000  170.000000  170.000000  170.000000  170.000000  170.000000   \n",
      "mean     2.252229    2.692542    2.384331    2.434220    2.381148    2.383196   \n",
      "std      1.824543    1.462570    1.823294    1.761866    1.579506    1.813788   \n",
      "min     -2.222570   -1.586118   -1.369669   -1.804787   -1.646828   -1.954843   \n",
      "25%      0.840040    1.840819    0.968942    1.095527    1.393129    0.951158   \n",
      "50%      2.494819    2.775334    2.370586    2.563965    2.328561    2.480274   \n",
      "75%      3.672607    3.686155    3.679450    3.709652    3.383715    3.739805   \n",
      "max      5.714706    5.908155    6.559038    6.340313    6.094200    6.864293   \n",
      "\n",
      "               52          53          54  \n",
      "count  170.000000  170.000000  170.000000  \n",
      "mean     2.100934    1.951431    0.494118  \n",
      "std      1.873251    1.849212    0.501442  \n",
      "min     -3.980885   -1.799863    0.000000  \n",
      "25%      0.713322    0.332224    0.000000  \n",
      "50%      2.324301    2.051469    0.000000  \n",
      "75%      3.562613    3.386587    1.000000  \n",
      "max      6.472725    6.272800    1.000000  \n",
      "\n",
      "[8 rows x 55 columns]\n"
     ]
    }
   ],
   "source": [
    "data = pd.read_csv('q3.csv', header=None)\n",
    "display(data.head())\n",
    "print(data.describe())\n",
    "\n",
    "data=data.values"
   ]
  },
  {
   "cell_type": "markdown",
   "metadata": {},
   "source": [
    "Looking at the data, it all appears to be of the same scale. Therefore we will proceed without forst normalizing the data, although it is, in general, a good idea."
   ]
  },
  {
   "cell_type": "code",
   "execution_count": 50,
   "metadata": {},
   "outputs": [
    {
     "name": "stdout",
     "output_type": "stream",
     "text": [
      "------------------------------------ SVM Classifier ------------------------------------ \n",
      "We accurately labeled 32 points out of 34 in the test set,for an accuracy of 94.12%\n",
      "\n",
      "\n",
      "------------------------------------ Neural Net Classifier ------------------------------------ \n",
      "We accurately labeled 32 points out of 34 in the test set,for an accuracy of 94.12%\n",
      "\n",
      "\n"
     ]
    }
   ],
   "source": [
    "X = data[:,:-1]\n",
    "y = data[:,-1]\n",
    "\n",
    "X_train, X_test, y_train, y_test = train_test_split(X, y, test_size=0.2, random_state=0, shuffle=True)\n",
    "\n",
    "# SVM Classifier\n",
    "svm_clf = SVC(C=1, kernel='linear', probability=True, random_state=1).fit(X_train, y_train)\n",
    "y_pred_svm = svm_clf.predict(X_test)\n",
    "print('------------------------------------ SVM Classifier ------------------------------------ ')\n",
    "print(f'We accurately labeled {(y_test == y_pred_svm).sum()} points out of {y_test.shape[0]} in the test set,'\\\n",
    "      f'for an accuracy of {round((y_test == y_pred_svm).sum()/y_test.shape[0] *100, 2)}%')\n",
    "print('\\n')\n",
    "\n",
    "\n",
    "# Neural Net CLassifier\n",
    "nn_clf = MLPClassifier(solver='lbfgs', hidden_layer_sizes=(5, 2),\n",
    "                       learning_rate='adaptive', random_state=1).fit(X_train, y_train)\n",
    "y_pred_nn = nn_clf.predict(X_test)\n",
    "print('------------------------------------ Neural Net Classifier ------------------------------------ ')\n",
    "print(f'We accurately labeled {(y_test == y_pred_nn).sum()} points out of {y_test.shape[0]} in the test set,'\\\n",
    "      f'for an accuracy of {round((y_test == y_pred_nn).sum()/y_test.shape[0] *100, 2)}%')\n",
    "print('\\n')\n",
    "\n"
   ]
  },
  {
   "cell_type": "markdown",
   "metadata": {},
   "source": [
    "**a) Report the testing accuracy for each of the two classifiers. Comment on their performance. Which performs better? Make a guess why it performs better in this setting.**"
   ]
  },
  {
   "cell_type": "markdown",
   "metadata": {},
   "source": [
    "In this case both classifiers performed equally well, correctly classifying 32 of 32 points in the test set.\n",
    "\n",
    "If the SVM classifier would have performed better, my guess would have been that the neural net classifier had overfit to the training data and not generalized well enough. \n",
    "\n",
    "If the neural net would have classified better, then I would have guessed that the relationship between the predictors and the outcome had a shape that could not be effectively modeled with a linear separator. In that case we would expect SVM to have performed poorly while the neural network would have been able to model the nonlinear decision boundary.\n"
   ]
  },
  {
   "cell_type": "markdown",
   "metadata": {},
   "source": [
    "**b) Use the first two features to train two new classifiers. Plot the data points and decision boundary of each classifier. Comment on the difference between the decision boundaries for the two classifiers. Clearly represent the data points with different labels using different colors.**"
   ]
  },
  {
   "cell_type": "code",
   "execution_count": 73,
   "metadata": {},
   "outputs": [
    {
     "name": "stdout",
     "output_type": "stream",
     "text": [
      "------------------------------------ SVM Classifier ------------------------------------ \n",
      "We accurately labeled 29 points out of 34 in the test set,for an accuracy of 85.29%\n",
      "\n",
      "\n",
      "------------------------------------ Neural Net Classifier ------------------------------------ \n",
      "We accurately labeled 29 points out of 34 in the test set,for an accuracy of 85.29%\n",
      "\n",
      "\n"
     ]
    },
    {
     "data": {
      "image/png": "[encoded data removed]",
      "text/plain": [
       "<Figure size 1080x720 with 4 Axes>"
      ]
     },
     "metadata": {
      "needs_background": "light"
     },
     "output_type": "display_data"
    }
   ],
   "source": [
    "X = data[:,0:2]\n",
    "y = data[:,-1]\n",
    "\n",
    "X_train, X_test, y_train, y_test = train_test_split(X, y, test_size=0.2, random_state=0, shuffle=True)\n",
    "\n",
    "xx, yy = np.meshgrid(np.linspace(-4, 8.5, 50),\n",
    "                     np.linspace(-2, 6, 50))\n",
    "\n",
    "# SVM Classifier\n",
    "\n",
    "svm_clf = SVC(C=1, kernel='linear', probability=True, random_state=1).fit(X_train, y_train)\n",
    "y_pred_svm = svm_clf.predict(X_test)\n",
    "Z_svm = svm_clf.predict_proba(np.c_[xx.ravel(), yy.ravel()])   # Calculate the decision boundary\n",
    "Z_svm = Z_svm[:, 1].reshape(xx.shape)\n",
    "\n",
    "print('------------------------------------ SVM Classifier ------------------------------------ ')\n",
    "print(f'We accurately labeled {(y_test == y_pred_svm).sum()} points out of {y_test.shape[0]} in the test set,'\\\n",
    "      f'for an accuracy of {round((y_test == y_pred_svm).sum()/y_test.shape[0] *100, 2)}%')\n",
    "print('\\n')\n",
    "\n",
    "# Neural Net CLassifier\n",
    "nn_clf = MLPClassifier(solver='lbfgs', hidden_layer_sizes=(5, 2),\n",
    "                       learning_rate='adaptive', random_state=1).fit(X_train, y_train)\n",
    "y_pred_nn = nn_clf.predict(X_test)\n",
    "Z_nn = nn_clf.predict_proba(np.c_[xx.ravel(), yy.ravel()])   # Calculate the decision boundary\n",
    "Z_nn = Z_nn[:, 1].reshape(xx.shape)\n",
    "\n",
    "print('------------------------------------ Neural Net Classifier ------------------------------------ ')\n",
    "print(f'We accurately labeled {(y_test == y_pred_nn).sum()} points out of {y_test.shape[0]} in the test set,'\\\n",
    "      f'for an accuracy of {round((y_test == y_pred_nn).sum()/y_test.shape[0] *100, 2)}%')\n",
    "print('\\n')\n",
    "\n",
    "fig, axs = plt.subplots(2,2, figsize=(15,10))\n",
    "\n",
    "# Naive Bayes Plots\n",
    "axs[0,0].scatter(X_train[:,0], X_train[:,1],c=y_train, cmap='bwr', marker='o', alpha=0.25)\n",
    "axs[0,0].scatter(X_test[:,0], X_test[:,1],c=y_test, cmap='bwr', marker='+')\n",
    "axs[0,0].contour(xx, yy, Z_svm, [0.5], colors='k')\n",
    "axs[0,0].set_xlim([-4, 8])\n",
    "axs[0,0].set_ylim([-2, 6])\n",
    "axs[0,0].set_title('SVM Classifier')\n",
    "axs[0,0].set_xlabel('Feature 1')\n",
    "axs[0,0].set_ylabel('Feature 2')\n",
    "\n",
    "# Logistic Regression Plots Plots\n",
    "axs[0,1].scatter(X_train[:,0], X_train[:,1],c=y_train, cmap='bwr', marker='o', alpha=0.25)\n",
    "axs[0,1].scatter(X_test[:,0], X_test[:,1],c=y_test, cmap='bwr', marker='+')\n",
    "axs[0,1].contour(xx, yy, Z_nn, [0.5], colors='k')\n",
    "axs[0,1].set_xlim([-4, 8])\n",
    "axs[0,1].set_ylim([-2, 6])\n",
    "axs[0,1].set_title('Neural Net Classifier')\n",
    "axs[0,1].set_xlabel('Feature 1')\n",
    "axs[0,1].set_ylabel('Feature 2')\n",
    "\n",
    "axs[1,0].scatter(X_train[np.where(y_train==0),0], X_train[np.where(y_train==0),1], cmap='bwr', marker='o', alpha=0.25)\n",
    "axs[1,0].set_xlim([-4, 8])\n",
    "axs[1,0].set_ylim([-2, 6])\n",
    "axs[1,0].set_title('Datapoints with y=0')\n",
    "axs[1,0].set_xlabel('Feature 1')\n",
    "axs[1,0].set_ylabel('Feature 2')\n",
    "\n",
    "axs[1,1].scatter(X_train[np.where(y_train==1),0], X_train[np.where(y_train==1),1], cmap='bwr', marker='o', alpha=0.25)\n",
    "axs[1,1].set_xlim([-4, 8])\n",
    "axs[1,1].set_ylim([-2, 6])\n",
    "axs[1,1].set_title('Datapoints with y=1')\n",
    "axs[1,1].set_xlabel('Feature 1')\n",
    "axs[1,1].set_ylabel('Feature 2')\n",
    "\n",
    "plt.show()"
   ]
  },
  {
   "cell_type": "markdown",
   "metadata": {},
   "source": [
    "We can see that datapoints with `y=0` as the label appear more often in the bottom left of the plots, while datapoints with the label `y=1` appear more often in the top right of the plots. \n",
    "\n",
    "Because the SVM classifier was specifically chosen to use a linear kernel, we can see that the decision boundary is linear. The default kernel with the package I've used is a radial basis function kernel, and that had a very nonlinear decision boundary. \n",
    "\n",
    "We can see that the neural network has a very nonlinear decision boundary, although there appears to be a rather linear portion in the center of the plot, right between the two groups of datapoints.\n",
    "\n",
    "I am surprised that they predict the test datapoints equally well, however upon inspection only one of the test datapoints is near either decision boundary. Some of the training datapoints are classified differently between the two models, thus if we were to split the original dataset differently, we may get different results on the test dataset."
   ]
  },
  {
   "cell_type": "markdown",
   "metadata": {},
   "source": [
    "**Part Two (Handwritten Digits Classification).**\n",
    "\n",
    "Repear the above part `a)` using the MNIST dataset of handwritten digits. Give digit `6` the label `y=1`, and give digit `2` the label `y=0`. All the pixels in each image will be the predictor variables for that sample.\n",
    "\n",
    "Report the classification accuracy on the test data for each of the two classifiers. Comment on their performance. Which performs better? Make a guess why it performs better in this setting."
   ]
  },
  {
   "cell_type": "code",
   "execution_count": 75,
   "metadata": {},
   "outputs": [
    {
     "name": "stdout",
     "output_type": "stream",
     "text": [
      "------------------------------------ SVM Classifier ------------------------------------ \n",
      "We accurately labeled 389 points out of 398 in the test set,for an accuracy of 97.74%\n",
      "\n",
      "\n",
      "------------------------------------ Neural Net Classifier ------------------------------------ \n",
      "We accurately labeled 392 points out of 398 in the test set,for an accuracy of 98.49%\n",
      "\n",
      "\n"
     ]
    }
   ],
   "source": [
    "X = loadmat('data.mat')['data'].T\n",
    "y = loadmat('label.mat')['trueLabel'].T\n",
    "y = (y-2)/4     # Set all `2` digits to 0, and all `6` digits to 1\n",
    "\n",
    "X_train, X_test, y_train, y_test = train_test_split(X, y, test_size=0.2, random_state=0, shuffle=True)\n",
    "y_train = y_train.reshape(y_train.shape[0])\n",
    "y_test = y_test.reshape(y_test.shape[0])\n",
    "\n",
    "# SVM Classifier\n",
    "svm_clf = SVC(C=1, kernel='linear', probability=True, random_state=1).fit(X_train, y_train)\n",
    "y_pred_svm = svm_clf.predict(X_test)\n",
    "print('------------------------------------ SVM Classifier ------------------------------------ ')\n",
    "print(f'We accurately labeled {(y_test == y_pred_svm).sum()} points out of {y_test.shape[0]} in the test set,'\\\n",
    "      f'for an accuracy of {round((y_test == y_pred_svm).sum()/y_test.shape[0] *100, 2)}%')\n",
    "print('\\n')\n",
    "\n",
    "\n",
    "# Neural Net CLassifier\n",
    "nn_clf = MLPClassifier(solver='lbfgs', hidden_layer_sizes=(5, 2),\n",
    "                       learning_rate='adaptive', random_state=1).fit(X_train, y_train)\n",
    "y_pred_nn = nn_clf.predict(X_test)\n",
    "print('------------------------------------ Neural Net Classifier ------------------------------------ ')\n",
    "print(f'We accurately labeled {(y_test == y_pred_nn).sum()} points out of {y_test.shape[0]} in the test set,'\\\n",
    "      f'for an accuracy of {round((y_test == y_pred_nn).sum()/y_test.shape[0] *100, 2)}%')\n",
    "print('\\n')"
   ]
  },
  {
   "cell_type": "markdown",
   "metadata": {},
   "source": [
    "Both models performed exceptionally well, even when the decision boundary for the SVM classifier was forced to be linear. I would imagine that forcing the decision boundary to be linear is the reason for the slightly worse performance of the SVM model, compared to the neural network. \n",
    "\n",
    "It is well known that neural networks are one of the preferred model types for image classification. This example illustrates their power at classifying images."
   ]
  },
  {
   "cell_type": "markdown",
   "metadata": {},
   "source": [
    "**3) AdaBoost.**\n",
    "\n",
    "Consider the following dataset plotted below. The first two coordinates represent the value of two features, and the last coordinate is the binary label of the data.\n",
    "\n",
    "$$ X_1 = (-1, 0, +), \\quad X_2 = (-0.5, 0.5, +), \\quad X_3 = (0, 1, -), \\quad X_4 = (0.5, 1, -) $$\n",
    "\n",
    "$$ X_5 = (1, 0, +), \\quad X_2 = (1, -1, +), \\quad X_3 = (0, -1, -), \\quad X_4 = (0, 0, -) $$\n",
    "\n",
    "![](hw.png)"
   ]
  },
  {
   "cell_type": "markdown",
   "metadata": {},
   "source": [
    "In this problem, you will run through `T=3` iterations of AdaBoost with decision stmps (axis-aligned half planes) as weak learners."
   ]
  },
  {
   "cell_type": "markdown",
   "metadata": {},
   "source": [
    "**a) For each iteration `t=1,2,3`, compute $\\epsilon_t$, $\\alpha_t$, $Z_t$, and $D_t$ by hand.** (i.e. show all the calculation steps) and draw the decision stumps on Figure 1. Recall that $Z_t$ is the normalization factor to ensure that the weights $D_t$ sum to one. At each iteration, you may specify any reasonble decision rule $h_t$ as you would like."
   ]
  },
  {
   "cell_type": "markdown",
   "metadata": {},
   "source": [
    "The two decision stups are shown below. $h_1$ is drawn in blue and $h_2$ is drawn in red. The points that are incorrectly labeled by each stump are circled in the color of the decision stump classifier.\n",
    "\n",
    "![](AdaBoost_with_lines.jpg)"
   ]
  },
  {
   "cell_type": "markdown",
   "metadata": {},
   "source": [
    "**1) Decision Stump 1 - $h_1$**\n",
    "\n",
    "Decision stump 1 misclassifies points $x_5$ and $x_6$. The is is shown in the table below, as these points are colored red.\n",
    "\n",
    "You can see that the values for $D_t (5)$ and $D_t (6)$ have increased, giving them more priority. This is carried into the next step, and highlighted in yellow.\n",
    "\n",
    "**2) Decision Stump 2 - $h_2$**\n",
    "\n",
    "Decision stump 1 misclassifies points $x_1$ and $x_1$. The is is shown in the table below, as these points are colored red.\n",
    "\n",
    "You can see that the values for $D_t (1)$ and $D_t (1)$ have increased, giving them more priority. This is carried into the next step, and highlighted in yellow. You can also see that the values for $D_t (5)$ and $D_t (6)$ have dropped, since they were classified correctly by $h_2$.\n"
   ]
  },
  {
   "cell_type": "markdown",
   "metadata": {},
   "source": [
    "The calculations for $\\epsilon_t$, $\\alpha_t$, $Z_t$, and $D_t$ were done using excel formulas. "
   ]
  },
  {
   "cell_type": "markdown",
   "metadata": {},
   "source": [
    "![](Adaboost.png)"
   ]
  },
  {
   "cell_type": "markdown",
   "metadata": {},
   "source": [
    "**b) What is the training error of AdaBoost? Give a one-sentence reason for why AdaBoost outperforms a single decision stump.**"
   ]
  },
  {
   "cell_type": "markdown",
   "metadata": {},
   "source": [
    "The results were also calculated using excel formulas, using the actual value and whether or not each classifier predicted the value correctly. The formula for the final prediction for $x_1$ is shown below. \n",
    "\n",
    "![](results2.png)"
   ]
  },
  {
   "cell_type": "markdown",
   "metadata": {},
   "source": [
    "The training error of AdaBoost in this example is 0. This is because it was able to correctly classify all of the training data points. \n",
    "\n",
    "AdaBoost outperforms a single decision tree becasue it crowd-sources the answer from multiple decision trees, while giving less weight to the trees that perform poorly, and more weight to the trees that perform well. "
   ]
  },
  {
   "cell_type": "code",
   "execution_count": null,
   "metadata": {},
   "outputs": [],
   "source": []
  }
 ],
 "metadata": {
  "kernelspec": {
   "display_name": "Python 3",
   "language": "python",
   "name": "python3"
  },
  "language_info": {
   "codemirror_mode": {
    "name": "ipython",
    "version": 3
   },
   "file_extension": ".py",
   "mimetype": "text/x-python",
   "name": "python",
   "nbconvert_exporter": "python",
   "pygments_lexer": "ipython3",
   "version": "3.7.4"
  }
 },
 "nbformat": 4,
 "nbformat_minor": 2
}
